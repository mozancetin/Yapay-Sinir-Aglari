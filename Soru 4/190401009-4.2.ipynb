{
  "nbformat": 4,
  "nbformat_minor": 0,
  "metadata": {
    "colab": {
      "provenance": []
    },
    "kernelspec": {
      "name": "python3",
      "display_name": "Python 3"
    },
    "language_info": {
      "name": "python"
    }
  },
  "cells": [
    {
      "cell_type": "code",
      "execution_count": 1,
      "metadata": {
        "id": "4Bcw8KewkWoa"
      },
      "outputs": [],
      "source": [
        "import torch"
      ]
    },
    {
      "cell_type": "code",
      "source": [
        "x = torch.tensor([[1, 2, 3], [4, 5, 6]], dtype=torch.float32)\n",
        "\n",
        "print(x)\n",
        "print(x.shape)"
      ],
      "metadata": {
        "colab": {
          "base_uri": "https://localhost:8080/"
        },
        "id": "caKpEwXEouNg",
        "outputId": "90363b9d-dcef-4365-c9d6-f4aa363b815a"
      },
      "execution_count": 2,
      "outputs": [
        {
          "output_type": "stream",
          "name": "stdout",
          "text": [
            "tensor([[1., 2., 3.],\n",
            "        [4., 5., 6.]])\n",
            "torch.Size([2, 3])\n"
          ]
        }
      ]
    },
    {
      "cell_type": "code",
      "source": [
        "torch.manual_seed(190401009)\n",
        "\n",
        "w1 = torch.randn(3, 50)\n",
        "b1 = torch.randn(1, 50)\n",
        "\n",
        "w2 = torch.randn(50, 1)\n",
        "b2 = torch.randn(1, 1)"
      ],
      "metadata": {
        "id": "wnhKVKJDpynr"
      },
      "execution_count": 3,
      "outputs": []
    },
    {
      "cell_type": "code",
      "source": [
        "def sigmoid_func(x):\n",
        "    return 1 / (1 + torch.exp(-x))\n",
        "\n",
        "def tanh_func(x):\n",
        "    return (torch.exp(x) - torch.exp(-x)) / (torch.exp(x) + torch.exp(-x))"
      ],
      "metadata": {
        "id": "-UBcuivbqUs_"
      },
      "execution_count": 4,
      "outputs": []
    },
    {
      "cell_type": "code",
      "source": [
        "tmp = torch.matmul(x, w1) + b1\n",
        "tmp"
      ],
      "metadata": {
        "colab": {
          "base_uri": "https://localhost:8080/"
        },
        "id": "bcA2RLIxqw3F",
        "outputId": "b3416665-c096-40f6-f684-08fa41e87d0b"
      },
      "execution_count": 5,
      "outputs": [
        {
          "output_type": "execute_result",
          "data": {
            "text/plain": [
              "tensor([[  3.6372,  -3.0786,  -1.6610,   1.8164,   6.7588,   6.4580,  -1.9611,\n",
              "          -1.5384,  -7.3956,  -2.9245,  -2.5226,  -5.4705,  -3.5027,  -2.4919,\n",
              "           4.9809,   1.2226,  -1.4371,  -2.6147,   1.8259,  -3.6015,  12.1292,\n",
              "          -0.1467,  -2.2208,   6.3313,  -7.1737,   4.5046,  -2.2398,  -1.9947,\n",
              "           2.7038,  -7.5238,  -1.8929,   3.0155,  -3.2543,  -4.4616,  -1.1274,\n",
              "          -6.0702,   2.1611,   0.0641,   0.6791,   1.8038,  -2.4629,   0.2764,\n",
              "          -6.3909,   7.1242,   5.8240,  -2.0739,   1.9870,  -0.3511,   3.0336,\n",
              "          -2.4687],\n",
              "        [  3.4147,  -9.0819,  -4.1179,   1.6484,  13.9594,  12.4895,  -4.7985,\n",
              "          -4.0034, -16.3963,  -5.8073,  -4.6715, -12.2339, -11.5416,  -1.3550,\n",
              "           9.4471,   2.0060,  -4.7007,  -8.1983,   4.8998,  -4.3205,  27.4210,\n",
              "          -0.0825,  -6.3618,  13.7793, -12.7986,   6.8788, -10.0541,  -6.9943,\n",
              "           6.2110, -17.6534,  -4.7450,   6.5188,  -0.4872,  -7.7684,  -3.3031,\n",
              "         -14.5351,   5.5456,  -1.4991,   1.5187,  -0.2880,  -5.8072,   1.4379,\n",
              "         -12.1286,  13.2965,  16.0803,  -2.4355,   8.0912,  -0.3516,   4.7462,\n",
              "          -5.1248]])"
            ]
          },
          "metadata": {},
          "execution_count": 5
        }
      ]
    },
    {
      "cell_type": "code",
      "source": [
        "tanh_x = tanh_func(tmp)\n",
        "tanh_x"
      ],
      "metadata": {
        "colab": {
          "base_uri": "https://localhost:8080/"
        },
        "id": "Q5VpNZ-5uj7x",
        "outputId": "aee85fe5-a958-4324-ce7f-3a1977dde96c"
      },
      "execution_count": 6,
      "outputs": [
        {
          "output_type": "execute_result",
          "data": {
            "text/plain": [
              "tensor([[ 0.9986, -0.9958, -0.9304,  0.9485,  1.0000,  1.0000, -0.9612, -0.9118,\n",
              "         -1.0000, -0.9943, -0.9872, -1.0000, -0.9982, -0.9864,  0.9999,  0.8404,\n",
              "         -0.8931, -0.9893,  0.9494, -0.9985,  1.0000, -0.1456, -0.9767,  1.0000,\n",
              "         -1.0000,  0.9998, -0.9776, -0.9637,  0.9911, -1.0000, -0.9556,  0.9952,\n",
              "         -0.9970, -0.9997, -0.8101, -1.0000,  0.9738,  0.0640,  0.5909,  0.9472,\n",
              "         -0.9856,  0.2696, -1.0000,  1.0000,  1.0000, -0.9689,  0.9631, -0.3373,\n",
              "          0.9954, -0.9858],\n",
              "        [ 0.9978, -1.0000, -0.9995,  0.9286,  1.0000,  1.0000, -0.9999, -0.9993,\n",
              "         -1.0000, -1.0000, -0.9998, -1.0000, -1.0000, -0.8752,  1.0000,  0.9645,\n",
              "         -0.9998, -1.0000,  0.9999, -0.9996,  1.0000, -0.0824, -1.0000,  1.0000,\n",
              "         -1.0000,  1.0000, -1.0000, -1.0000,  1.0000, -1.0000, -0.9998,  1.0000,\n",
              "         -0.4520, -1.0000, -0.9973, -1.0000,  1.0000, -0.9050,  0.9085, -0.2803,\n",
              "         -1.0000,  0.8933, -1.0000,  1.0000,  1.0000, -0.9848,  1.0000, -0.3378,\n",
              "          0.9998, -0.9999]])"
            ]
          },
          "metadata": {},
          "execution_count": 6
        }
      ]
    },
    {
      "cell_type": "code",
      "source": [
        "output = sigmoid_func(torch.matmul(tanh_x, w2) + b2)\n",
        "output"
      ],
      "metadata": {
        "colab": {
          "base_uri": "https://localhost:8080/"
        },
        "id": "S0GAeZb8vEIB",
        "outputId": "4485cba0-53a1-417b-b06b-294eabafb131"
      },
      "execution_count": 7,
      "outputs": [
        {
          "output_type": "execute_result",
          "data": {
            "text/plain": [
              "tensor([[0.0498],\n",
              "        [0.0075]])"
            ]
          },
          "metadata": {},
          "execution_count": 7
        }
      ]
    }
  ]
}