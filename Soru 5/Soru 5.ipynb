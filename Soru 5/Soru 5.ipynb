{
 "cells": [
  {
   "cell_type": "code",
   "execution_count": 1,
   "id": "approximate-jaguar",
   "metadata": {},
   "outputs": [],
   "source": [
    "import time\n",
    "start = time.time()\n",
    "import torch\n",
    "import torch.nn as nn\n",
    "import torch.optim as optim\n",
    "from torch.utils.data import Dataset, DataLoader, TensorDataset\n",
    "from sklearn.metrics import accuracy_score, precision_score, recall_score, f1_score\n",
    "from sklearn.preprocessing import MultiLabelBinarizer\n",
    "import pandas as pd\n",
    "import numpy as np\n",
    "import os"
   ]
  },
  {
   "cell_type": "code",
   "execution_count": 2,
   "id": "spread-charlotte",
   "metadata": {},
   "outputs": [
    {
     "data": {
      "text/plain": [
       "<torch._C.Generator at 0x2cea4e51b70>"
      ]
     },
     "execution_count": 2,
     "metadata": {},
     "output_type": "execute_result"
    }
   ],
   "source": [
    "torch.manual_seed(190401009)"
   ]
  },
  {
   "cell_type": "code",
   "execution_count": 3,
   "id": "outstanding-pound",
   "metadata": {},
   "outputs": [],
   "source": [
    "class MLP(nn.Module):\n",
    "    def __init__(self, input_size, hidden_size1, hidden_size2, output_size):\n",
    "        super(MLP, self).__init__()\n",
    "        self.fc1 = nn.Linear(input_size, hidden_size1)\n",
    "        self.fc2 = nn.Linear(hidden_size1, hidden_size2)\n",
    "        self.fc3 = nn.Linear(hidden_size2, output_size)\n",
    "        self.relu = nn.ReLU()\n",
    "        self.sigmoid = nn.Sigmoid()\n",
    "\n",
    "    def forward(self, x):\n",
    "        # x = torch.flatten(x, 1)\n",
    "        output1 = self.relu(self.fc1(x))\n",
    "        output2 = self.relu(self.fc2(output1))\n",
    "        output3 = self.sigmoid(self.fc3(output2))\n",
    "        return output3"
   ]
  },
  {
   "cell_type": "code",
   "execution_count": 4,
   "id": "twelve-contractor",
   "metadata": {},
   "outputs": [],
   "source": [
    "training_data = pd.read_csv(\"./cure_the_princess_train.csv\")\n",
    "val_data = pd.read_csv(\"./cure_the_princess_validation.csv\")\n",
    "test_data = pd.read_csv(\"./cure_the_princess_test.csv\")\n",
    "labels = training_data.columns.tolist()\n",
    "num_of_classes = len(labels)\n",
    "train_x = training_data.iloc[:, :-1].values\n",
    "train_y = training_data.iloc[:, -1].values\n",
    "val_x = val_data.iloc[:, :-1].values\n",
    "val_y = val_data.iloc[:, -1].values\n",
    "test_x = test_data.iloc[:, :-1].values\n",
    "test_y = test_data.iloc[:, -1].values"
   ]
  },
  {
   "cell_type": "code",
   "execution_count": 5,
   "id": "robust-trail",
   "metadata": {},
   "outputs": [],
   "source": [
    "class GenerateDataset(Dataset):\n",
    "    def __init__(self, x, y):\n",
    "        self.x = torch.tensor(x, dtype=torch.float32)\n",
    "        self.y = torch.tensor(y, dtype=torch.long)\n",
    "\n",
    "    def __len__(self):\n",
    "        return len(self.x)\n",
    "\n",
    "    def __getitem__(self, idx):\n",
    "        return self.x[idx], self.y[idx]\n",
    "\n",
    "train_data = GenerateDataset(train_x, train_y)\n",
    "val_data = GenerateDataset(val_x, val_y)\n",
    "test_data = GenerateDataset(test_x, test_y)"
   ]
  },
  {
   "cell_type": "code",
   "execution_count": 6,
   "id": "herbal-elder",
   "metadata": {},
   "outputs": [],
   "source": [
    "learning_rate = 0.0016\n",
    "num_of_epochs = 200\n",
    "batch_size = 16\n",
    "input_size = 13\n",
    "hidden_size1 = 100\n",
    "hidden_size2 = 50\n",
    "output_size = 1\n",
    "patience = 10"
   ]
  },
  {
   "cell_type": "code",
   "execution_count": 7,
   "id": "vocal-duplicate",
   "metadata": {},
   "outputs": [],
   "source": [
    "model = MLP(input_size, hidden_size1, hidden_size2, output_size)"
   ]
  },
  {
   "cell_type": "code",
   "execution_count": 8,
   "id": "difficult-canal",
   "metadata": {},
   "outputs": [],
   "source": [
    "# Loss fonksiyonunu belirlemek\n",
    "criterion = nn.BCELoss()\n",
    "\n",
    "# Optimizer'ı belirlemek\n",
    "optimizer = optim.SGD(model.parameters(), lr=learning_rate)"
   ]
  },
  {
   "cell_type": "code",
   "execution_count": 9,
   "id": "vulnerable-ambassador",
   "metadata": {},
   "outputs": [],
   "source": [
    "train_loader = torch.utils.data.DataLoader(train_data, batch_size=batch_size, shuffle=True)\n",
    "valid_loader = torch.utils.data.DataLoader(val_data, batch_size=batch_size, shuffle=False)\n",
    "test_loader = torch.utils.data.DataLoader(test_data, batch_size=batch_size, shuffle=False)"
   ]
  },
  {
   "cell_type": "code",
   "execution_count": 10,
   "id": "patient-picture",
   "metadata": {},
   "outputs": [],
   "source": [
    "train_loss_list = []\n",
    "valid_loss_list = []"
   ]
  },
  {
   "cell_type": "code",
   "execution_count": 11,
   "id": "coordinate-religion",
   "metadata": {},
   "outputs": [
    {
     "name": "stdout",
     "output_type": "stream",
     "text": [
      "Epoch: 1 \tTraining Loss: 0.655329 \tValidation Loss: 0.560756\n",
      "Epoch: 2 \tTraining Loss: 0.536081 \tValidation Loss: 0.470223\n",
      "Epoch: 3 \tTraining Loss: 0.473193 \tValidation Loss: 0.414752\n",
      "Epoch: 4 \tTraining Loss: 0.432630 \tValidation Loss: 0.388674\n",
      "Epoch: 5 \tTraining Loss: 0.397068 \tValidation Loss: 0.339674\n",
      "Epoch: 6 \tTraining Loss: 0.374753 \tValidation Loss: 0.315769\n",
      "Epoch: 7 \tTraining Loss: 0.349186 \tValidation Loss: 0.303767\n",
      "Epoch: 8 \tTraining Loss: 0.336595 \tValidation Loss: 0.288243\n",
      "Epoch: 9 \tTraining Loss: 0.316257 \tValidation Loss: 0.264729\n",
      "Epoch: 10 \tTraining Loss: 0.310199 \tValidation Loss: 0.309792\n",
      "Earlystopping Patience Counter: 1\n",
      "Epoch: 11 \tTraining Loss: 0.303215 \tValidation Loss: 0.260682\n",
      "Epoch: 12 \tTraining Loss: 0.289366 \tValidation Loss: 0.242945\n",
      "Epoch: 13 \tTraining Loss: 0.286037 \tValidation Loss: 0.233988\n",
      "Epoch: 14 \tTraining Loss: 0.275828 \tValidation Loss: 0.228900\n",
      "Epoch: 15 \tTraining Loss: 0.270442 \tValidation Loss: 0.223360\n",
      "Epoch: 16 \tTraining Loss: 0.263726 \tValidation Loss: 0.266511\n",
      "Earlystopping Patience Counter: 1\n",
      "Epoch: 17 \tTraining Loss: 0.261118 \tValidation Loss: 0.267450\n",
      "Earlystopping Patience Counter: 2\n",
      "Epoch: 18 \tTraining Loss: 0.256807 \tValidation Loss: 0.218200\n",
      "Epoch: 19 \tTraining Loss: 0.246849 \tValidation Loss: 0.226546\n",
      "Earlystopping Patience Counter: 1\n",
      "Epoch: 20 \tTraining Loss: 0.242733 \tValidation Loss: 0.211507\n",
      "Epoch: 21 \tTraining Loss: 0.238965 \tValidation Loss: 0.202236\n",
      "Epoch: 22 \tTraining Loss: 0.234820 \tValidation Loss: 0.200773\n",
      "Epoch: 23 \tTraining Loss: 0.232267 \tValidation Loss: 0.199290\n",
      "Epoch: 24 \tTraining Loss: 0.226849 \tValidation Loss: 0.199674\n",
      "Earlystopping Patience Counter: 1\n",
      "Epoch: 25 \tTraining Loss: 0.224348 \tValidation Loss: 0.194835\n",
      "Epoch: 26 \tTraining Loss: 0.220410 \tValidation Loss: 0.193395\n",
      "Epoch: 27 \tTraining Loss: 0.213033 \tValidation Loss: 0.200468\n",
      "Earlystopping Patience Counter: 1\n",
      "Epoch: 28 \tTraining Loss: 0.211964 \tValidation Loss: 0.197219\n",
      "Earlystopping Patience Counter: 2\n",
      "Epoch: 29 \tTraining Loss: 0.208960 \tValidation Loss: 0.258459\n",
      "Earlystopping Patience Counter: 3\n",
      "Epoch: 30 \tTraining Loss: 0.204388 \tValidation Loss: 0.185945\n",
      "Epoch: 31 \tTraining Loss: 0.205542 \tValidation Loss: 0.198244\n",
      "Earlystopping Patience Counter: 1\n",
      "Epoch: 32 \tTraining Loss: 0.200002 \tValidation Loss: 0.182854\n",
      "Epoch: 33 \tTraining Loss: 0.198440 \tValidation Loss: 0.194010\n",
      "Earlystopping Patience Counter: 1\n",
      "Epoch: 34 \tTraining Loss: 0.199224 \tValidation Loss: 0.214990\n",
      "Earlystopping Patience Counter: 2\n",
      "Epoch: 35 \tTraining Loss: 0.194282 \tValidation Loss: 0.178971\n",
      "Epoch: 36 \tTraining Loss: 0.186941 \tValidation Loss: 0.176732\n",
      "Epoch: 37 \tTraining Loss: 0.188314 \tValidation Loss: 0.184045\n",
      "Earlystopping Patience Counter: 1\n",
      "Epoch: 38 \tTraining Loss: 0.187661 \tValidation Loss: 0.214427\n",
      "Earlystopping Patience Counter: 2\n",
      "Epoch: 39 \tTraining Loss: 0.182141 \tValidation Loss: 0.173376\n",
      "Epoch: 40 \tTraining Loss: 0.179243 \tValidation Loss: 0.170800\n",
      "Epoch: 41 \tTraining Loss: 0.179948 \tValidation Loss: 0.172327\n",
      "Earlystopping Patience Counter: 1\n",
      "Epoch: 42 \tTraining Loss: 0.177657 \tValidation Loss: 0.166777\n",
      "Epoch: 43 \tTraining Loss: 0.173149 \tValidation Loss: 0.166145\n",
      "Epoch: 44 \tTraining Loss: 0.169986 \tValidation Loss: 0.166254\n",
      "Earlystopping Patience Counter: 1\n",
      "Epoch: 45 \tTraining Loss: 0.167141 \tValidation Loss: 0.170850\n",
      "Earlystopping Patience Counter: 2\n",
      "Epoch: 46 \tTraining Loss: 0.169090 \tValidation Loss: 0.212470\n",
      "Earlystopping Patience Counter: 3\n",
      "Epoch: 47 \tTraining Loss: 0.165855 \tValidation Loss: 0.184199\n",
      "Earlystopping Patience Counter: 4\n",
      "Epoch: 48 \tTraining Loss: 0.163383 \tValidation Loss: 0.159970\n",
      "Epoch: 49 \tTraining Loss: 0.160543 \tValidation Loss: 0.165995\n",
      "Earlystopping Patience Counter: 1\n",
      "Epoch: 50 \tTraining Loss: 0.157995 \tValidation Loss: 0.159640\n",
      "Epoch: 51 \tTraining Loss: 0.156101 \tValidation Loss: 0.179177\n",
      "Earlystopping Patience Counter: 1\n",
      "Epoch: 52 \tTraining Loss: 0.154952 \tValidation Loss: 0.161962\n",
      "Earlystopping Patience Counter: 2\n",
      "Epoch: 53 \tTraining Loss: 0.152890 \tValidation Loss: 0.160032\n",
      "Earlystopping Patience Counter: 3\n",
      "Epoch: 54 \tTraining Loss: 0.149575 \tValidation Loss: 0.157330\n",
      "Epoch: 55 \tTraining Loss: 0.149195 \tValidation Loss: 0.155923\n",
      "Epoch: 56 \tTraining Loss: 0.154684 \tValidation Loss: 0.191366\n",
      "Earlystopping Patience Counter: 1\n",
      "Epoch: 57 \tTraining Loss: 0.147861 \tValidation Loss: 0.172035\n",
      "Earlystopping Patience Counter: 2\n",
      "Epoch: 58 \tTraining Loss: 0.142857 \tValidation Loss: 0.154055\n",
      "Epoch: 59 \tTraining Loss: 0.145321 \tValidation Loss: 0.161042\n",
      "Earlystopping Patience Counter: 1\n",
      "Epoch: 60 \tTraining Loss: 0.143326 \tValidation Loss: 0.155945\n",
      "Earlystopping Patience Counter: 2\n",
      "Epoch: 61 \tTraining Loss: 0.140309 \tValidation Loss: 0.154568\n",
      "Earlystopping Patience Counter: 3\n",
      "Epoch: 62 \tTraining Loss: 0.138358 \tValidation Loss: 0.151699\n",
      "Epoch: 63 \tTraining Loss: 0.137532 \tValidation Loss: 0.151223\n",
      "Epoch: 64 \tTraining Loss: 0.138805 \tValidation Loss: 0.150649\n",
      "Epoch: 65 \tTraining Loss: 0.137386 \tValidation Loss: 0.153903\n",
      "Earlystopping Patience Counter: 1\n",
      "Epoch: 66 \tTraining Loss: 0.131466 \tValidation Loss: 0.154841\n",
      "Earlystopping Patience Counter: 2\n",
      "Epoch: 67 \tTraining Loss: 0.132619 \tValidation Loss: 0.152366\n",
      "Earlystopping Patience Counter: 3\n",
      "Epoch: 68 \tTraining Loss: 0.132472 \tValidation Loss: 0.151187\n",
      "Earlystopping Patience Counter: 4\n",
      "Epoch: 69 \tTraining Loss: 0.130356 \tValidation Loss: 0.182045\n",
      "Earlystopping Patience Counter: 5\n",
      "Epoch: 70 \tTraining Loss: 0.127131 \tValidation Loss: 0.185379\n",
      "Earlystopping Patience Counter: 6\n",
      "Epoch: 71 \tTraining Loss: 0.127867 \tValidation Loss: 0.148903\n",
      "Epoch: 72 \tTraining Loss: 0.129343 \tValidation Loss: 0.159404\n",
      "Earlystopping Patience Counter: 1\n",
      "Epoch: 73 \tTraining Loss: 0.127457 \tValidation Loss: 0.145489\n",
      "Epoch: 74 \tTraining Loss: 0.123593 \tValidation Loss: 0.146822\n",
      "Earlystopping Patience Counter: 1\n",
      "Epoch: 75 \tTraining Loss: 0.123402 \tValidation Loss: 0.146726\n",
      "Earlystopping Patience Counter: 2\n",
      "Epoch: 76 \tTraining Loss: 0.130012 \tValidation Loss: 0.147530\n",
      "Earlystopping Patience Counter: 3\n",
      "Epoch: 77 \tTraining Loss: 0.120345 \tValidation Loss: 0.151961\n",
      "Earlystopping Patience Counter: 4\n",
      "Epoch: 78 \tTraining Loss: 0.119019 \tValidation Loss: 0.163541\n",
      "Earlystopping Patience Counter: 5\n",
      "Epoch: 79 \tTraining Loss: 0.120801 \tValidation Loss: 0.165755\n",
      "Earlystopping Patience Counter: 6\n",
      "Epoch: 80 \tTraining Loss: 0.118775 \tValidation Loss: 0.164560\n",
      "Earlystopping Patience Counter: 7\n",
      "Epoch: 81 \tTraining Loss: 0.118713 \tValidation Loss: 0.146106\n",
      "Earlystopping Patience Counter: 8\n",
      "Epoch: 82 \tTraining Loss: 0.113099 \tValidation Loss: 0.161205\n",
      "Earlystopping Patience Counter: 9\n",
      "Epoch: 83 \tTraining Loss: 0.127322 \tValidation Loss: 0.226971\n",
      "Earlystopping Patience Counter: 10\n"
     ]
    }
   ],
   "source": [
    "patience_counter = 0\n",
    "best_val_loss = None\n",
    "for epoch in range(num_of_epochs):\n",
    "    train_loss = 0.0\n",
    "    train_count = 0.0\n",
    "    valid_loss = 0.0\n",
    "\n",
    "    # Eğitim verileri üzerinde eğitim yapmak\n",
    "    # model.train()\n",
    "    for data, target in train_loader:\n",
    "        optimizer.zero_grad()\n",
    "        output = model(data)\n",
    "        loss = criterion(output, target.unsqueeze(1).float())\n",
    "        loss.backward()\n",
    "        optimizer.step()\n",
    "        train_count += 1\n",
    "        train_loss += loss.item()\n",
    "\n",
    "    # Doğrulama verileri üzerinde test yapmak\n",
    "    with torch.no_grad():\n",
    "        model.eval()\n",
    "        for data, target in valid_loader:\n",
    "            output = model(data)\n",
    "            loss = criterion(output, target.unsqueeze(1).float())\n",
    "            valid_loss += loss.item()\n",
    "    \n",
    "    model.train()\n",
    "    # Loss değerlerini kaydetmek\n",
    "    train_loss /= train_count\n",
    "    valid_loss /= len(valid_loader)\n",
    "        \n",
    "    train_loss_list.append(train_loss)\n",
    "    valid_loss_list.append(valid_loss)\n",
    "    print('Epoch: {} \\tTraining Loss: {:.6f} \\tValidation Loss: {:.6f}'.format(\n",
    "        epoch + 1, train_loss, valid_loss))\n",
    "    \n",
    "    val_score = valid_loss\n",
    "    if best_val_loss is None:\n",
    "        best_val_loss = val_score # hafızada patience boyu tutmaya başla\n",
    "        torch.save(model.state_dict(), \"checkpoint.pt\")\n",
    "    elif best_val_loss < val_score: # patience counter\n",
    "        patience_counter += 1\n",
    "        print(\"Earlystopping Patience Counter:\",patience_counter)\n",
    "        if patience_counter == patience:\n",
    "            break\n",
    "    else:\n",
    "        best_val_loss = val_score\n",
    "        torch.save(model.state_dict(), \"checkpoint.pt\") # to keep the best model\n",
    "        patience_counter = 0"
   ]
  },
  {
   "cell_type": "code",
   "execution_count": 12,
   "id": "present-bronze",
   "metadata": {},
   "outputs": [
    {
     "data": {
      "image/png": "[encoded data removed]",
      "text/plain": [
       "<Figure size 640x480 with 1 Axes>"
      ]
     },
     "metadata": {},
     "output_type": "display_data"
    }
   ],
   "source": [
    "import seaborn as sns\n",
    "import matplotlib.pyplot as plt\n",
    "\n",
    "sns.set_style(\"darkgrid\")\n",
    "plt.plot(train_loss_list, label=\"Training loss\")\n",
    "plt.plot(valid_loss_list, label=\"Validation loss\")\n",
    "plt.xlabel(\"Epoch\")\n",
    "plt.ylabel(\"Loss\")\n",
    "plt.legend()\n",
    "plt.show()"
   ]
  },
  {
   "cell_type": "code",
   "execution_count": 13,
   "id": "2dbd583c",
   "metadata": {},
   "outputs": [
    {
     "name": "stdout",
     "output_type": "stream",
     "text": [
      "Accuracy: 0.9534\n",
      "F1 score: 0.9531\n",
      "Precision: 0.9632\n",
      "Recall: 0.9433\n"
     ]
    }
   ],
   "source": [
    "from sklearn.metrics import accuracy_score, f1_score, precision_score, recall_score\n",
    "\n",
    "model.load_state_dict(torch.load('checkpoint.pt'))\n",
    "\n",
    "preds = []\n",
    "tlabels = []\n",
    "model.eval()\n",
    "with torch.no_grad():\n",
    "    for inputs, labels in test_loader:\n",
    "        outputs = model(inputs)\n",
    "        predicted = torch.round(outputs)\n",
    "        preds.extend(predicted.detach().cpu().numpy())\n",
    "        tlabels.extend(labels.detach().cpu().numpy())\n",
    "\n",
    "accuracy = accuracy_score(tlabels, preds)\n",
    "f1 = f1_score(tlabels, preds)\n",
    "precision = precision_score(tlabels, preds)\n",
    "recall = recall_score(tlabels, preds)\n",
    "\n",
    "print(f'Accuracy: {accuracy:.4f}')\n",
    "print(f'F1 score: {f1:.4f}')\n",
    "print(f'Precision: {precision:.4f}')\n",
    "print(f'Recall: {recall:.4f}')"
   ]
  },
  {
   "cell_type": "code",
   "execution_count": 14,
   "id": "pediatric-provincial",
   "metadata": {},
   "outputs": [
    {
     "name": "stdout",
     "output_type": "stream",
     "text": [
      "Elapsed: 10.98 secs\n"
     ]
    }
   ],
   "source": [
    "end = time.time()\n",
    "elapsed = end - start\n",
    "print(\"Elapsed:\", f'{elapsed:.2f}', \"secs\")"
   ]
  }
 ],
 "metadata": {
  "kernelspec": {
   "display_name": "Python 3 (ipykernel)",
   "language": "python",
   "name": "python3"
  },
  "language_info": {
   "codemirror_mode": {
    "name": "ipython",
    "version": 3
   },
   "file_extension": ".py",
   "mimetype": "text/x-python",
   "name": "python",
   "nbconvert_exporter": "python",
   "pygments_lexer": "ipython3",
   "version": "3.10.7"
  }
 },
 "nbformat": 4,
 "nbformat_minor": 5
}
