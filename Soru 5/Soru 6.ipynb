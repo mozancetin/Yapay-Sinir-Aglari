{
 "cells": [
  {
   "cell_type": "code",
   "execution_count": 1,
   "id": "edaeaa37",
   "metadata": {},
   "outputs": [],
   "source": [
    "import time\n",
    "start = time.time()\n",
    "import torch\n",
    "import torch.nn as nn\n",
    "import torch.optim as optim\n",
    "from torch.utils.data import Dataset, DataLoader, TensorDataset\n",
    "from sklearn.metrics import accuracy_score, precision_score, recall_score, f1_score\n",
    "from sklearn.preprocessing import MultiLabelBinarizer\n",
    "import pandas as pd\n",
    "import numpy as np\n",
    "import os"
   ]
  },
  {
   "cell_type": "code",
   "execution_count": 2,
   "id": "982c708e",
   "metadata": {},
   "outputs": [
    {
     "data": {
      "text/plain": [
       "<torch._C.Generator at 0x24f7aa45b70>"
      ]
     },
     "execution_count": 2,
     "metadata": {},
     "output_type": "execute_result"
    }
   ],
   "source": [
    "torch.manual_seed(190401009)"
   ]
  },
  {
   "cell_type": "code",
   "execution_count": 3,
   "id": "320ed723",
   "metadata": {},
   "outputs": [],
   "source": [
    "class MLP(nn.Module):\n",
    "    def __init__(self, input_size, hidden_size1, hidden_size2, output_size):\n",
    "        super(MLP, self).__init__()\n",
    "        self.fc1 = nn.Linear(input_size, hidden_size1)\n",
    "        self.fc2 = nn.Linear(hidden_size1, hidden_size2)\n",
    "        self.fc3 = nn.Linear(hidden_size2, output_size)\n",
    "        self.relu = nn.ReLU()\n",
    "        self.sigmoid = nn.Sigmoid()\n",
    "        self.dropout = nn.Dropout(p=0.1)\n",
    "        self.bn1 = nn.BatchNorm1d(hidden_size1)\n",
    "        self.bn2 = nn.BatchNorm1d(hidden_size2)\n",
    "\n",
    "    def forward(self, x):\n",
    "        output1 = self.bn1(self.dropout(self.relu(self.fc1(x))))\n",
    "        output2 = self.bn2(self.dropout(self.relu(self.fc2(output1))))\n",
    "        output3 = self.sigmoid(self.fc3(output2))\n",
    "        return output3"
   ]
  },
  {
   "cell_type": "code",
   "execution_count": 4,
   "id": "e245a22e",
   "metadata": {},
   "outputs": [],
   "source": [
    "training_data = pd.read_csv(\"./cure_the_princess_train.csv\")\n",
    "val_data = pd.read_csv(\"./cure_the_princess_validation.csv\")\n",
    "test_data = pd.read_csv(\"./cure_the_princess_test.csv\")\n",
    "labels = training_data.columns.tolist()\n",
    "num_of_classes = len(labels)\n",
    "train_x = training_data.iloc[:, :-1].values\n",
    "train_y = training_data.iloc[:, -1].values\n",
    "val_x = val_data.iloc[:, :-1].values\n",
    "val_y = val_data.iloc[:, -1].values\n",
    "test_x = test_data.iloc[:, :-1].values\n",
    "test_y = test_data.iloc[:, -1].values"
   ]
  },
  {
   "cell_type": "code",
   "execution_count": 5,
   "id": "dade4bc1",
   "metadata": {},
   "outputs": [],
   "source": [
    "class GenerateDataset(Dataset):\n",
    "    def __init__(self, x, y):\n",
    "        self.x = torch.tensor(x, dtype=torch.float32)\n",
    "        self.y = torch.tensor(y, dtype=torch.long)\n",
    "\n",
    "    def __len__(self):\n",
    "        return len(self.x)\n",
    "\n",
    "    def __getitem__(self, idx):\n",
    "        return self.x[idx], self.y[idx]\n",
    "\n",
    "train_data = GenerateDataset(train_x, train_y)\n",
    "val_data = GenerateDataset(val_x, val_y)\n",
    "test_data = GenerateDataset(test_x, test_y)"
   ]
  },
  {
   "cell_type": "code",
   "execution_count": 6,
   "id": "ae99a0a5",
   "metadata": {},
   "outputs": [],
   "source": [
    "learning_rate = 0.0016\n",
    "num_of_epochs = 200\n",
    "batch_size = 16\n",
    "input_size = 13\n",
    "hidden_size1 = 100\n",
    "hidden_size2 = 50\n",
    "output_size = 1\n",
    "patience = 20"
   ]
  },
  {
   "cell_type": "code",
   "execution_count": 7,
   "id": "69070c51",
   "metadata": {},
   "outputs": [],
   "source": [
    "model = MLP(input_size, hidden_size1, hidden_size2, output_size)"
   ]
  },
  {
   "cell_type": "code",
   "execution_count": 8,
   "id": "b449b66c",
   "metadata": {},
   "outputs": [],
   "source": [
    "# Loss fonksiyonunu belirlemek\n",
    "criterion = nn.BCELoss()\n",
    "\n",
    "# Optimizer'ı belirlemek\n",
    "l2_lambda = 0.01\n",
    "optimizer = optim.SGD(model.parameters(), lr=learning_rate, weight_decay=l2_lambda)"
   ]
  },
  {
   "cell_type": "code",
   "execution_count": 9,
   "id": "48e06499",
   "metadata": {},
   "outputs": [],
   "source": [
    "train_loader = torch.utils.data.DataLoader(train_data, batch_size=batch_size, shuffle=True)\n",
    "valid_loader = torch.utils.data.DataLoader(val_data, batch_size=batch_size, shuffle=False)\n",
    "test_loader = torch.utils.data.DataLoader(test_data, batch_size=batch_size, shuffle=False)"
   ]
  },
  {
   "cell_type": "code",
   "execution_count": 10,
   "id": "e09f4fb3",
   "metadata": {},
   "outputs": [],
   "source": [
    "train_loss_list = []\n",
    "valid_loss_list = []"
   ]
  },
  {
   "cell_type": "code",
   "execution_count": 11,
   "id": "760fdca3",
   "metadata": {},
   "outputs": [
    {
     "name": "stdout",
     "output_type": "stream",
     "text": [
      "Epoch: 1 \tTraining Loss: 0.674044 \tValidation Loss: 0.657101\n",
      "Epoch: 2 \tTraining Loss: 0.625966 \tValidation Loss: 0.616030\n",
      "Epoch: 3 \tTraining Loss: 0.590960 \tValidation Loss: 0.573625\n",
      "Epoch: 4 \tTraining Loss: 0.574850 \tValidation Loss: 0.565002\n",
      "Epoch: 5 \tTraining Loss: 0.531970 \tValidation Loss: 0.540038\n",
      "Epoch: 6 \tTraining Loss: 0.530302 \tValidation Loss: 0.520335\n",
      "Epoch: 7 \tTraining Loss: 0.505196 \tValidation Loss: 0.481442\n",
      "Epoch: 8 \tTraining Loss: 0.488285 \tValidation Loss: 0.466323\n",
      "Epoch: 9 \tTraining Loss: 0.484871 \tValidation Loss: 0.431192\n",
      "Epoch: 10 \tTraining Loss: 0.460713 \tValidation Loss: 0.752374\n",
      "Earlystopping Patience Counter: 1\n",
      "Epoch: 11 \tTraining Loss: 0.462968 \tValidation Loss: 0.410637\n",
      "Epoch: 12 \tTraining Loss: 0.447566 \tValidation Loss: 0.422528\n",
      "Earlystopping Patience Counter: 1\n",
      "Epoch: 13 \tTraining Loss: 0.428023 \tValidation Loss: 0.362315\n",
      "Epoch: 14 \tTraining Loss: 0.415145 \tValidation Loss: 0.381825\n",
      "Earlystopping Patience Counter: 1\n",
      "Epoch: 15 \tTraining Loss: 0.407094 \tValidation Loss: 0.401087\n",
      "Earlystopping Patience Counter: 2\n",
      "Epoch: 16 \tTraining Loss: 0.418198 \tValidation Loss: 0.396012\n",
      "Earlystopping Patience Counter: 3\n",
      "Epoch: 17 \tTraining Loss: 0.399581 \tValidation Loss: 0.390494\n",
      "Earlystopping Patience Counter: 4\n",
      "Epoch: 18 \tTraining Loss: 0.391231 \tValidation Loss: 0.635617\n",
      "Earlystopping Patience Counter: 5\n",
      "Epoch: 19 \tTraining Loss: 0.393729 \tValidation Loss: 0.348560\n",
      "Epoch: 20 \tTraining Loss: 0.396551 \tValidation Loss: 0.292665\n",
      "Epoch: 21 \tTraining Loss: 0.386296 \tValidation Loss: 0.309280\n",
      "Earlystopping Patience Counter: 1\n",
      "Epoch: 22 \tTraining Loss: 0.371616 \tValidation Loss: 0.335263\n",
      "Earlystopping Patience Counter: 2\n",
      "Epoch: 23 \tTraining Loss: 0.385150 \tValidation Loss: 0.343663\n",
      "Earlystopping Patience Counter: 3\n",
      "Epoch: 24 \tTraining Loss: 0.371960 \tValidation Loss: 0.604397\n",
      "Earlystopping Patience Counter: 4\n",
      "Epoch: 25 \tTraining Loss: 0.352405 \tValidation Loss: 0.616611\n",
      "Earlystopping Patience Counter: 5\n",
      "Epoch: 26 \tTraining Loss: 0.351196 \tValidation Loss: 0.343686\n",
      "Earlystopping Patience Counter: 6\n",
      "Epoch: 27 \tTraining Loss: 0.376085 \tValidation Loss: 0.304039\n",
      "Earlystopping Patience Counter: 7\n",
      "Epoch: 28 \tTraining Loss: 0.349395 \tValidation Loss: 0.273577\n",
      "Epoch: 29 \tTraining Loss: 0.326737 \tValidation Loss: 0.557575\n",
      "Earlystopping Patience Counter: 1\n",
      "Epoch: 30 \tTraining Loss: 0.342955 \tValidation Loss: 0.675477\n",
      "Earlystopping Patience Counter: 2\n",
      "Epoch: 31 \tTraining Loss: 0.332193 \tValidation Loss: 0.588035\n",
      "Earlystopping Patience Counter: 3\n",
      "Epoch: 32 \tTraining Loss: 0.348946 \tValidation Loss: 0.571578\n",
      "Earlystopping Patience Counter: 4\n",
      "Epoch: 33 \tTraining Loss: 0.323361 \tValidation Loss: 0.555514\n",
      "Earlystopping Patience Counter: 5\n",
      "Epoch: 34 \tTraining Loss: 0.329881 \tValidation Loss: 0.610460\n",
      "Earlystopping Patience Counter: 6\n",
      "Epoch: 35 \tTraining Loss: 0.336920 \tValidation Loss: 0.566647\n",
      "Earlystopping Patience Counter: 7\n",
      "Epoch: 36 \tTraining Loss: 0.329997 \tValidation Loss: 0.301041\n",
      "Earlystopping Patience Counter: 8\n",
      "Epoch: 37 \tTraining Loss: 0.325583 \tValidation Loss: 0.269869\n",
      "Epoch: 38 \tTraining Loss: 0.312301 \tValidation Loss: 0.297074\n",
      "Earlystopping Patience Counter: 1\n",
      "Epoch: 39 \tTraining Loss: 0.314280 \tValidation Loss: 0.270874\n",
      "Earlystopping Patience Counter: 2\n",
      "Epoch: 40 \tTraining Loss: 0.328042 \tValidation Loss: 0.566480\n",
      "Earlystopping Patience Counter: 3\n",
      "Epoch: 41 \tTraining Loss: 0.323218 \tValidation Loss: 0.548766\n",
      "Earlystopping Patience Counter: 4\n",
      "Epoch: 42 \tTraining Loss: 0.307699 \tValidation Loss: 0.548210\n",
      "Earlystopping Patience Counter: 5\n",
      "Epoch: 43 \tTraining Loss: 0.322107 \tValidation Loss: 0.246867\n",
      "Epoch: 44 \tTraining Loss: 0.317916 \tValidation Loss: 0.547259\n",
      "Earlystopping Patience Counter: 1\n",
      "Epoch: 45 \tTraining Loss: 0.309202 \tValidation Loss: 0.247512\n",
      "Earlystopping Patience Counter: 2\n",
      "Epoch: 46 \tTraining Loss: 0.298979 \tValidation Loss: 0.577346\n",
      "Earlystopping Patience Counter: 3\n",
      "Epoch: 47 \tTraining Loss: 0.308449 \tValidation Loss: 0.274718\n",
      "Earlystopping Patience Counter: 4\n",
      "Epoch: 48 \tTraining Loss: 0.303552 \tValidation Loss: 0.238856\n",
      "Epoch: 49 \tTraining Loss: 0.278903 \tValidation Loss: 0.257687\n",
      "Earlystopping Patience Counter: 1\n",
      "Epoch: 50 \tTraining Loss: 0.311242 \tValidation Loss: 0.273548\n",
      "Earlystopping Patience Counter: 2\n",
      "Epoch: 51 \tTraining Loss: 0.301902 \tValidation Loss: 0.232534\n",
      "Epoch: 52 \tTraining Loss: 0.293290 \tValidation Loss: 0.291796\n",
      "Earlystopping Patience Counter: 1\n",
      "Epoch: 53 \tTraining Loss: 0.281793 \tValidation Loss: 0.257387\n",
      "Earlystopping Patience Counter: 2\n",
      "Epoch: 54 \tTraining Loss: 0.293687 \tValidation Loss: 0.234063\n",
      "Earlystopping Patience Counter: 3\n",
      "Epoch: 55 \tTraining Loss: 0.285031 \tValidation Loss: 0.522472\n",
      "Earlystopping Patience Counter: 4\n",
      "Epoch: 56 \tTraining Loss: 0.280193 \tValidation Loss: 0.255835\n",
      "Earlystopping Patience Counter: 5\n",
      "Epoch: 57 \tTraining Loss: 0.295187 \tValidation Loss: 0.265623\n",
      "Earlystopping Patience Counter: 6\n",
      "Epoch: 58 \tTraining Loss: 0.282193 \tValidation Loss: 0.227602\n",
      "Epoch: 59 \tTraining Loss: 0.282557 \tValidation Loss: 0.549566\n",
      "Earlystopping Patience Counter: 1\n",
      "Epoch: 60 \tTraining Loss: 0.280591 \tValidation Loss: 0.250122\n",
      "Earlystopping Patience Counter: 2\n",
      "Epoch: 61 \tTraining Loss: 0.275040 \tValidation Loss: 0.229392\n",
      "Earlystopping Patience Counter: 3\n",
      "Epoch: 62 \tTraining Loss: 0.280241 \tValidation Loss: 0.247889\n",
      "Earlystopping Patience Counter: 4\n",
      "Epoch: 63 \tTraining Loss: 0.277178 \tValidation Loss: 0.521969\n",
      "Earlystopping Patience Counter: 5\n",
      "Epoch: 64 \tTraining Loss: 0.288263 \tValidation Loss: 0.265196\n",
      "Earlystopping Patience Counter: 6\n",
      "Epoch: 65 \tTraining Loss: 0.288989 \tValidation Loss: 0.578388\n",
      "Earlystopping Patience Counter: 7\n",
      "Epoch: 66 \tTraining Loss: 0.260328 \tValidation Loss: 0.272124\n",
      "Earlystopping Patience Counter: 8\n",
      "Epoch: 67 \tTraining Loss: 0.272111 \tValidation Loss: 0.210277\n",
      "Epoch: 68 \tTraining Loss: 0.280967 \tValidation Loss: 0.561046\n",
      "Earlystopping Patience Counter: 1\n",
      "Epoch: 69 \tTraining Loss: 0.266362 \tValidation Loss: 0.516330\n",
      "Earlystopping Patience Counter: 2\n",
      "Epoch: 70 \tTraining Loss: 0.270273 \tValidation Loss: 0.525655\n",
      "Earlystopping Patience Counter: 3\n",
      "Epoch: 71 \tTraining Loss: 0.269788 \tValidation Loss: 0.515684\n",
      "Earlystopping Patience Counter: 4\n",
      "Epoch: 72 \tTraining Loss: 0.247089 \tValidation Loss: 0.545478\n",
      "Earlystopping Patience Counter: 5\n",
      "Epoch: 73 \tTraining Loss: 0.244802 \tValidation Loss: 0.517092\n",
      "Earlystopping Patience Counter: 6\n",
      "Epoch: 74 \tTraining Loss: 0.265761 \tValidation Loss: 0.511363\n",
      "Earlystopping Patience Counter: 7\n",
      "Epoch: 75 \tTraining Loss: 0.244694 \tValidation Loss: 0.512995\n",
      "Earlystopping Patience Counter: 8\n",
      "Epoch: 76 \tTraining Loss: 0.255688 \tValidation Loss: 0.514533\n",
      "Earlystopping Patience Counter: 9\n",
      "Epoch: 77 \tTraining Loss: 0.263998 \tValidation Loss: 0.509403\n",
      "Earlystopping Patience Counter: 10\n",
      "Epoch: 78 \tTraining Loss: 0.259582 \tValidation Loss: 0.501395\n",
      "Earlystopping Patience Counter: 11\n",
      "Epoch: 79 \tTraining Loss: 0.252266 \tValidation Loss: 0.506513\n",
      "Earlystopping Patience Counter: 12\n",
      "Epoch: 80 \tTraining Loss: 0.243387 \tValidation Loss: 0.557473\n",
      "Earlystopping Patience Counter: 13\n",
      "Epoch: 81 \tTraining Loss: 0.247344 \tValidation Loss: 0.508980\n",
      "Earlystopping Patience Counter: 14\n",
      "Epoch: 82 \tTraining Loss: 0.242839 \tValidation Loss: 0.524490\n",
      "Earlystopping Patience Counter: 15\n",
      "Epoch: 83 \tTraining Loss: 0.239154 \tValidation Loss: 0.529925\n",
      "Earlystopping Patience Counter: 16\n",
      "Epoch: 84 \tTraining Loss: 0.251730 \tValidation Loss: 0.529375\n",
      "Earlystopping Patience Counter: 17\n",
      "Epoch: 85 \tTraining Loss: 0.245960 \tValidation Loss: 0.513231\n",
      "Earlystopping Patience Counter: 18\n",
      "Epoch: 86 \tTraining Loss: 0.225520 \tValidation Loss: 0.495257\n",
      "Earlystopping Patience Counter: 19\n",
      "Epoch: 87 \tTraining Loss: 0.231969 \tValidation Loss: 0.507109\n",
      "Earlystopping Patience Counter: 20\n"
     ]
    }
   ],
   "source": [
    "patience_counter = 0\n",
    "best_val_loss = None\n",
    "for epoch in range(num_of_epochs):\n",
    "    train_loss = 0.0\n",
    "    train_count = 0.0\n",
    "    valid_loss = 0.0\n",
    "\n",
    "    # Eğitim verileri üzerinde eğitim yapmak\n",
    "    # model.train()\n",
    "    for data, target in train_loader:\n",
    "        optimizer.zero_grad()\n",
    "        output = model(data)\n",
    "        loss = criterion(output, target.unsqueeze(1).float())\n",
    "        loss.backward()\n",
    "        optimizer.step()\n",
    "        train_count += 1\n",
    "        train_loss += loss.item()\n",
    "\n",
    "    # Doğrulama verileri üzerinde test yapmak\n",
    "    with torch.no_grad():\n",
    "        model.eval()\n",
    "        for data, target in valid_loader:\n",
    "            output = model(data)\n",
    "            loss = criterion(output, target.unsqueeze(1).float())\n",
    "            valid_loss += loss.item()\n",
    "    \n",
    "    model.train()\n",
    "    # Loss değerlerini kaydetmek\n",
    "    train_loss /= train_count\n",
    "    valid_loss /= len(valid_loader)\n",
    "        \n",
    "    train_loss_list.append(train_loss)\n",
    "    valid_loss_list.append(valid_loss)\n",
    "    print('Epoch: {} \\tTraining Loss: {:.6f} \\tValidation Loss: {:.6f}'.format(\n",
    "        epoch + 1, train_loss, valid_loss))\n",
    "    \n",
    "    val_score = valid_loss\n",
    "    if best_val_loss is None:\n",
    "        best_val_loss = val_score # hafızada patience boyu tutmaya başla\n",
    "        torch.save(model.state_dict(), \"checkpoint.pt\")\n",
    "    elif best_val_loss < val_score: # patience counter\n",
    "        patience_counter += 1\n",
    "        print(\"Earlystopping Patience Counter:\",patience_counter)\n",
    "        if patience_counter == patience:\n",
    "            break\n",
    "    else:\n",
    "        best_val_loss = val_score\n",
    "        torch.save(model.state_dict(), \"checkpoint.pt\") # to keep the best model\n",
    "        patience_counter = 0"
   ]
  },
  {
   "cell_type": "code",
   "execution_count": 12,
   "id": "10983c68",
   "metadata": {},
   "outputs": [
    {
     "data": {
      "image/png": "[encoded data removed]",
      "text/plain": [
       "<Figure size 640x480 with 1 Axes>"
      ]
     },
     "metadata": {},
     "output_type": "display_data"
    }
   ],
   "source": [
    "import seaborn as sns\n",
    "import matplotlib.pyplot as plt\n",
    "\n",
    "sns.set_style(\"darkgrid\")\n",
    "plt.plot(train_loss_list, label=\"Training loss\")\n",
    "plt.plot(valid_loss_list, label=\"Validation loss\")\n",
    "plt.xlabel(\"Epoch\")\n",
    "plt.ylabel(\"Loss\")\n",
    "plt.legend()\n",
    "plt.show()"
   ]
  },
  {
   "cell_type": "code",
   "execution_count": 13,
   "id": "286e7ae5",
   "metadata": {},
   "outputs": [
    {
     "name": "stdout",
     "output_type": "stream",
     "text": [
      "Accuracy: 0.9301\n",
      "F1 score: 0.9291\n",
      "Precision: 0.9465\n",
      "Recall: 0.9124\n"
     ]
    }
   ],
   "source": [
    "from sklearn.metrics import accuracy_score, f1_score, precision_score, recall_score\n",
    "\n",
    "model.load_state_dict(torch.load('checkpoint.pt'))\n",
    "\n",
    "preds = []\n",
    "tlabels = []\n",
    "model.eval()\n",
    "with torch.no_grad():\n",
    "    for inputs, labels in test_loader:\n",
    "        outputs = model(inputs)\n",
    "        predicted = torch.round(outputs)\n",
    "        preds.extend(predicted.detach().cpu().numpy())\n",
    "        tlabels.extend(labels.detach().cpu().numpy())\n",
    "\n",
    "accuracy = accuracy_score(tlabels, preds)\n",
    "f1 = f1_score(tlabels, preds)\n",
    "precision = precision_score(tlabels, preds)\n",
    "recall = recall_score(tlabels, preds)\n",
    "\n",
    "print(f'Accuracy: {accuracy:.4f}')\n",
    "print(f'F1 score: {f1:.4f}')\n",
    "print(f'Precision: {precision:.4f}')\n",
    "print(f'Recall: {recall:.4f}')"
   ]
  },
  {
   "cell_type": "code",
   "execution_count": 14,
   "id": "001df203",
   "metadata": {},
   "outputs": [
    {
     "name": "stdout",
     "output_type": "stream",
     "text": [
      "Elapsed: 15.71 secs\n"
     ]
    }
   ],
   "source": [
    "end = time.time()\n",
    "elapsed = end - start\n",
    "print(\"Elapsed:\", f'{elapsed:.2f}', \"secs\")"
   ]
  }
 ],
 "metadata": {
  "kernelspec": {
   "display_name": "Python 3 (ipykernel)",
   "language": "python",
   "name": "python3"
  },
  "language_info": {
   "codemirror_mode": {
    "name": "ipython",
    "version": 3
   },
   "file_extension": ".py",
   "mimetype": "text/x-python",
   "name": "python",
   "nbconvert_exporter": "python",
   "pygments_lexer": "ipython3",
   "version": "3.10.7"
  }
 },
 "nbformat": 4,
 "nbformat_minor": 5
}
